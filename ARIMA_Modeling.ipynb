{
 "cells": [
  {
   "cell_type": "markdown",
   "metadata": {},
   "source": [
    "### Homework 4 - Seasonal ARIMA\n",
    "\n",
    "The client believes that <u>seasonality</u> is an important component of estimating Ozone and is interested in the use of a seasonal ARIMA model.  The scope of services includes the following:\n",
    "\n",
    "- The creation of a `seasonal ARIMA`.  Address how seasonality is incorporated into the model for Ozone and how this decision was made.\n",
    "- Indicate if anything needs to be done for trend (if so, how was this addressed).\n",
    "- Discuss any relevant information regarding autoregressive and/or moving average terms.\n",
    "- Be sure to indicate if white noise is achieved for the recommended model and how this was determined.\n",
    "- Show the actual versus predicted values in a time plot for the test data set (last 5 months) and provide a measure of accuracy for this test data.\n",
    "\n",
    "Resources used:<br>\n",
    "https://nwfsc-timeseries.github.io/atsa-labs/sec-tslab-autoregressive-moving-average-arma-models.html <br>\n",
    "https://otexts.com/fpp2/non-seasonal-arima.html"
   ]
  },
  {
   "cell_type": "code",
   "execution_count": 2,
   "metadata": {},
   "outputs": [],
   "source": [
    "# Import packages\n",
    "library(readr) # read in data\n",
    "library(tidyr) # data wrangling\n",
    "library(dplyr) # data wrangling\n",
    "library(ggplot2) # data visualization\n",
    "library(ggthemes) # data visualization\n",
    "library(tseries) # work with time series data\n",
    "library(forecast) # forecast time series data\n",
    "library(lmtest) # linear regression\n",
    "library(zoo) # working with ts vectors/matrices\n",
    "library(seasonal) # seasonal adjustment\n",
    "library(lubridate) # working with dates\n",
    "library(astsa) # ARIMA\n",
    "library(repr) # change plot size in jupyter notebook"
   ]
  },
  {
   "cell_type": "markdown",
   "metadata": {},
   "source": [
    "The following code rolls up provided daily data to monthly data. Data is then split into training, validation, testing data sets."
   ]
  },
  {
   "cell_type": "code",
   "execution_count": 3,
   "metadata": {},
   "outputs": [
    {
     "data": {
      "image/png": "[encoded data removed]",
      "text/plain": [
       "plot without title"
      ]
     },
     "metadata": {},
     "output_type": "display_data"
    },
    {
     "data": {
      "text/html": [
       "<ol class=list-inline>\n",
       "\t<li>1</li>\n",
       "\t<li>0.701787011896128</li>\n",
       "\t<li>0.347247793762696</li>\n",
       "\t<li>-0.0287681654103246</li>\n",
       "\t<li>-0.409456461139178</li>\n",
       "\t<li>-0.616396331736911</li>\n",
       "\t<li>-0.710628325088549</li>\n",
       "\t<li>-0.593214025056677</li>\n",
       "\t<li>-0.349725328389081</li>\n",
       "\t<li>-0.00682852949302909</li>\n",
       "\t<li>0.369692172962756</li>\n",
       "\t<li>0.5877702015336</li>\n",
       "\t<li>0.643695071048824</li>\n",
       "\t<li>0.542901745777463</li>\n",
       "\t<li>0.278456340869404</li>\n",
       "\t<li>-0.0298206338334485</li>\n",
       "\t<li>-0.309107552813269</li>\n",
       "\t<li>-0.491267497280097</li>\n",
       "\t<li>-0.562649891844306</li>\n",
       "\t<li>-0.508619867958455</li>\n",
       "\t<li>-0.275402214562052</li>\n",
       "</ol>\n"
      ],
      "text/latex": [
       "\\begin{enumerate*}\n",
       "\\item 1\n",
       "\\item 0.701787011896128\n",
       "\\item 0.347247793762696\n",
       "\\item -0.0287681654103246\n",
       "\\item -0.409456461139178\n",
       "\\item -0.616396331736911\n",
       "\\item -0.710628325088549\n",
       "\\item -0.593214025056677\n",
       "\\item -0.349725328389081\n",
       "\\item -0.00682852949302909\n",
       "\\item 0.369692172962756\n",
       "\\item 0.5877702015336\n",
       "\\item 0.643695071048824\n",
       "\\item 0.542901745777463\n",
       "\\item 0.278456340869404\n",
       "\\item -0.0298206338334485\n",
       "\\item -0.309107552813269\n",
       "\\item -0.491267497280097\n",
       "\\item -0.562649891844306\n",
       "\\item -0.508619867958455\n",
       "\\item -0.275402214562052\n",
       "\\end{enumerate*}\n"
      ],
      "text/markdown": [
       "1. 1\n",
       "2. 0.701787011896128\n",
       "3. 0.347247793762696\n",
       "4. -0.0287681654103246\n",
       "5. -0.409456461139178\n",
       "6. -0.616396331736911\n",
       "7. -0.710628325088549\n",
       "8. -0.593214025056677\n",
       "9. -0.349725328389081\n",
       "10. -0.00682852949302909\n",
       "11. 0.369692172962756\n",
       "12. 0.5877702015336\n",
       "13. 0.643695071048824\n",
       "14. 0.542901745777463\n",
       "15. 0.278456340869404\n",
       "16. -0.0298206338334485\n",
       "17. -0.309107552813269\n",
       "18. -0.491267497280097\n",
       "19. -0.562649891844306\n",
       "20. -0.508619867958455\n",
       "21. -0.275402214562052\n",
       "\n",
       "\n"
      ],
      "text/plain": [
       ", , 1\n",
       "\n",
       "                 [,1]\n",
       " [1,]  1.000000000000\n",
       " [2,]  0.701787011896\n",
       " [3,]  0.347247793763\n",
       " [4,] -0.028768165410\n",
       " [5,] -0.409456461139\n",
       " [6,] -0.616396331737\n",
       " [7,] -0.710628325089\n",
       " [8,] -0.593214025057\n",
       " [9,] -0.349725328389\n",
       "[10,] -0.006828529493\n",
       "[11,]  0.369692172963\n",
       "[12,]  0.587770201534\n",
       "[13,]  0.643695071049\n",
       "[14,]  0.542901745777\n",
       "[15,]  0.278456340869\n",
       "[16,] -0.029820633833\n",
       "[17,] -0.309107552813\n",
       "[18,] -0.491267497280\n",
       "[19,] -0.562649891844\n",
       "[20,] -0.508619867958\n",
       "[21,] -0.275402214562\n"
      ]
     },
     "metadata": {},
     "output_type": "display_data"
    },
    {
     "data": {
      "image/png": "[encoded data removed]",
      "text/plain": [
       "Plot with title \"Series  trainingTS\""
      ]
     },
     "metadata": {},
     "output_type": "display_data"
    }
   ],
   "source": [
    "# import data and convert Date column from character to date \n",
    "data <- read_csv('C:/Users/chely/Documents/Time Series and Forecasting/Class Data/Ozone_Raleigh2.csv', \n",
    "                 col_types = cols(Date = col_date(format = '%m/%d/%Y')))\n",
    "\n",
    "# Change Daily Max column name so it is shorter and easier to handle\n",
    "names(data)[5] <- \"maxOzoneC\"\n",
    "\n",
    "# Create a time plot of the mean monthly max 8 hour ozone concentration and upload it.\n",
    "monthly_data <- data %>%\n",
    "  mutate(month = month(Date)) %>%\n",
    "  mutate(year = year(Date)) %>%\n",
    "  group_by(year, month) %>%\n",
    "  summarise(mean_ozone = mean(maxOzoneC, na.rm = T))\n",
    "\n",
    "# Create monthly ts object\n",
    "monthly_ts <- ts(monthly_data$mean_ozone, start = c(2014, 1), end = c(2020, 5), frequency = 12)\n",
    "\n",
    "# Training data:\n",
    "trainingTS <- subset(monthly_ts, end = length(monthly_ts) - 17)\n",
    "\n",
    "# Validation data:\n",
    "validTS <- subset(monthly_ts, start = length(monthly_ts) - 16, end = length(monthly_ts) - 5)\n",
    "\n",
    "# Test data\n",
    "testTS <- subset(monthly_ts, start = length(monthly_ts) - 4)\n",
    "\n",
    "\n",
    "# Print out 10 decimal places\n",
    "options(digits=10)\n",
    "\n",
    "# Change plot size output in jupyter notebook\n",
    "options(repr.plot.width=4, repr.plot.height=3)\n",
    "\n",
    "# Visualize data to see what you have-- definitely seasonality!\n",
    "plot(trainingTS)\n",
    "\n",
    "Acf(trainingTS, lag = 20)$acf # seasonal pattern apparent"
   ]
  },
  {
   "cell_type": "markdown",
   "metadata": {},
   "source": [
    "There is not a \"best\" formal test for determining seasonality so we need to carefully evaluate the time plot. The plot above clearly shows seasonality. Thus, we need to take care of its functional form first (before considering trend or autocorrelation). We have to address seasonality FIRST because oftentimes a trend can disappear once taking care of the seasonality component.\n",
    "\n",
    "***\n",
    "\n",
    "### Three methods for capturing seasonality signal:\n",
    "- **Deterministic pattern**\n",
    "    - Fit dummy variables model (better for shorter length seasons-- good for yearly, quarterly, monthly data)\n",
    "    - Fit sin/Cosine model aka Fourier Transformation (better for longer length seasons-- good for hourly, daily data)\n",
    "    \n",
    "- **Stochastic pattern**\n",
    "    - Take seasonal differences\n",
    "    \n",
    "We will not be exploring x-variables just yet.\n",
    "    \n",
    "***\n",
    "\n",
    "Consider deterministic patterns <u>before</u> stochastic because taking differences increases confidence intervals and fitting a regression may be the better choice. After accounting for deterministic seasonality with a regression (using either dummy variables or fourier), we can look for seasonal dependence (correlation structure) by checking whether the residuals are stationary.\n",
    "\n",
    "If residuals are not stationary, you may need to take seasonal differences (stochastic pattern). You can perform the Seasonal ADF Test using `nsdiffs(series)` or `nsdiffs(series, test = 'ch')` to determine the number of seasonal differences to take to make a stationary time series. The seasonal ADF test is only appropriate for series with seasons up to length 12.\n",
    "\n",
    "We need stationary series (residuals) in order to model with ARIMA!\n",
    "\n",
    "***\n",
    "\n",
    "\n",
    "### Deterministic Seasonality"
   ]
  },
  {
   "cell_type": "code",
   "execution_count": 4,
   "metadata": {},
   "outputs": [
    {
     "name": "stdout",
     "output_type": "stream",
     "text": [
      "Series: trainingTS \n",
      "Regression with ARIMA(0,0,0) errors \n",
      "\n",
      "Coefficients:\n",
      "      intercept  month.factor2  month.factor3  month.factor4  month.factor5\n",
      "      0.0307050      0.0054660      0.0123030      0.0165783      0.0156642\n",
      "s.e.  0.0011783      0.0016614      0.0016614      0.0016614      0.0016614\n",
      "      month.factor6  month.factor7  month.factor8  month.factor9\n",
      "          0.0182110      0.0157062      0.0138544      0.0070003\n",
      "s.e.      0.0016614      0.0016614      0.0016614      0.0016614\n",
      "      month.factor10  month.factor11  month.factor12\n",
      "           0.0050369       0.0003414      -0.0046288\n",
      "s.e.       0.0016614       0.0016614       0.0016614\n",
      "\n",
      "sigma^2 estimated as 8.573318e-06:  log likelihood=271.56\n",
      "AIC=-517.13   AICc=-509.21   BIC=-489.9\n",
      "\n",
      "Training set error measures:\n",
      "                          ME           RMSE            MAE           MPE\n",
      "Training set 4.394734935e-18 0.002618903226 0.002142373168 -0.5076141542\n",
      "                    MAPE         MASE         ACF1\n",
      "Training set 5.736062708 0.6111743022 0.1398096462\n"
     ]
    }
   ],
   "source": [
    "### Dummy Variable Method: better for shorter season lengths ###\n",
    "# Since we have monthly data, we can fit 11 dummy variables (12 - 1)\n",
    "# Set the month variable in training set to a factor (60 obs in training data); factor is needed for model.matrix()\n",
    "month.factor <- factor(monthly_data$month[1:60])\n",
    "\n",
    "# Create a model matrix on this month variable: returns 11 dummy variables\n",
    "# Make design matrix with one-sided formula bc we don't need to know the response to be able to determine the model matrix\n",
    "# two-sided formula will still work but left-hand side is ignored\n",
    "reg.ozone <- model.matrix(~month.factor)\n",
    "reg.ozone <- reg.ozone[,-1] # delete the first column (y-int)\n",
    "\n",
    "# Fit a seasonal model on time series (training), using dummy variables as external regressors\n",
    "reg.dummies <- Arima(trainingTS, xreg = reg.ozone)\n",
    "summary(reg.dummies) # MAE = 0.00214, MAPE = 5.736"
   ]
  },
  {
   "cell_type": "code",
   "execution_count": 5,
   "metadata": {
    "scrolled": true
   },
   "outputs": [
    {
     "name": "stdout",
     "output_type": "stream",
     "text": [
      "Series: trainingTS \n",
      "Regression with ARIMA(0,0,0) errors \n",
      "\n",
      "Coefficients:\n",
      "      intercept      S1-12       C1-12       S2-12       C2-12       S3-12\n",
      "      0.0394994  0.0013069  -0.0099461  -0.0003745  -0.0017222  -0.0009477\n",
      "s.e.  0.0003766  0.0005168   0.0005168   0.0005168   0.0005168   0.0005168\n",
      "           C3-12      S4-12       C4-12\n",
      "      -0.0004850  0.0002880  -0.0005730\n",
      "s.e.   0.0005168  0.0005168   0.0005168\n",
      "\n",
      "sigma^2 estimated as 8.836967e-06:  log likelihood=268.84\n",
      "AIC=-517.67   AICc=-513.18   BIC=-496.73\n",
      "\n",
      "Training set error measures:\n",
      "                          ME           RMSE            MAE           MPE\n",
      "Training set 1.712172071e-15 0.002740697302 0.002176259345 -0.5566542068\n",
      "                    MAPE         MASE          ACF1\n",
      "Training set 5.791472597 0.6208413204 0.04835055646\n"
     ]
    }
   ],
   "source": [
    "### Sin/Cosine Method: better for longer season lengths ###\n",
    "reg.trig <- Arima(trainingTS, xreg = fourier(trainingTS, K=4))\n",
    "summary(reg.trig) # MAE = 0.00218, MAPE = 5.791"
   ]
  },
  {
   "cell_type": "markdown",
   "metadata": {},
   "source": [
    "I set k=4 in fourier() to denote 4 paired sine/cosine terms. There is no protocol for finding the best number of paired terms (trial-and-error). This is where modeling becomes more of an art than science. It is recommended to start with 3-4 pairs and add/remove. Be careful overfitting (do not want to fit noise!)\n",
    "\n",
    "***\n",
    "\n",
    "### After fitting seasonality, we want stationary residuals!"
   ]
  },
  {
   "cell_type": "code",
   "execution_count": 6,
   "metadata": {},
   "outputs": [
    {
     "data": {
      "image/png": "[encoded data removed]",
      "text/plain": [
       "Plot with title \"Dummy Method\""
      ]
     },
     "metadata": {},
     "output_type": "display_data"
    },
    {
     "data": {
      "image/png": "[encoded data removed]",
      "text/plain": [
       "Plot with title \"Trig Method\""
      ]
     },
     "metadata": {},
     "output_type": "display_data"
    }
   ],
   "source": [
    "# Check residuals on dummies model\n",
    "options(repr.plot.width=4, repr.plot.height=3) # adjust plot size\n",
    "# checkresiduals(arima.dummies) # fancier function to evaluate residuals\n",
    "plot(reg.dummies$residuals, main = 'Dummy Method')\n",
    "\n",
    "# Check residuals on trig model\n",
    "# checkresiduals(arima.trig) # fancier function to evaluate residuals\n",
    "plot(reg.trig$residuals, main = 'Trig Method')"
   ]
  },
  {
   "cell_type": "markdown",
   "metadata": {},
   "source": [
    "From looking at the plot, we would need to perform `ADF Test about zero mean or single mean` to test for stationarity in this case. However, R offers ADF test **including trend**, which is not appropriate in this case since there is no trend from the plot.\n",
    "\n",
    "An alternative approach would be to call `ndiffs()` which determines the number of <u>nonseasonal</u> differences required to make a given time series stationary."
   ]
  },
  {
   "cell_type": "code",
   "execution_count": 7,
   "metadata": {},
   "outputs": [
    {
     "data": {
      "text/html": [
       "0"
      ],
      "text/latex": [
       "0"
      ],
      "text/markdown": [
       "0"
      ],
      "text/plain": [
       "[1] 0"
      ]
     },
     "metadata": {},
     "output_type": "display_data"
    },
    {
     "data": {
      "text/html": [
       "0"
      ],
      "text/latex": [
       "0"
      ],
      "text/markdown": [
       "0"
      ],
      "text/plain": [
       "[1] 0"
      ]
     },
     "metadata": {},
     "output_type": "display_data"
    }
   ],
   "source": [
    "# See if residuals are stationary\n",
    "ndiffs(reg.dummies$residuals)\n",
    "ndiffs(reg.trig$residuals)\n",
    "\n",
    "# Both dummies and trig methods have stationary residuals since 0 differences need to be taken."
   ]
  },
  {
   "cell_type": "markdown",
   "metadata": {},
   "source": [
    "After getting stationary series, we can now fit an ARIMA model.\n",
    "\n",
    "We could look at the ACF and PACF plots to estimate what the AR and MA terms are..... trial-and-error. <br>\n",
    "Luckily R has `auto.arima()` from the forecast package that finds the best AR and MA terms based on AIC values.\n",
    "***\n",
    "We are going to input the **residuals** from the regression models since we have already taken care of seasonality. Using `auto.arima(series)` assumes seasonality has not already been taken care of and the function will take seasonal difference to account for stochastic seasonality. The function cannot handle deterministic seasonality as of currently."
   ]
  },
  {
   "cell_type": "code",
   "execution_count": 8,
   "metadata": {},
   "outputs": [
    {
     "data": {
      "image/png": "[encoded data removed]",
      "text/plain": [
       "Plot with title \"Series  reg.trig$residuals\""
      ]
     },
     "metadata": {},
     "output_type": "display_data"
    },
    {
     "data": {
      "image/png": "[encoded data removed]",
      "text/plain": [
       "Plot with title \"Series  reg.trig$residuals\""
      ]
     },
     "metadata": {},
     "output_type": "display_data"
    }
   ],
   "source": [
    "# Code for plotting ACF and PACF plots\n",
    "options(repr.plot.width=4, repr.plot.height=3)\n",
    "\n",
    "acf <- Acf(reg.trig$residuals, lag = 20)$acf\n",
    "pacf <- Pacf(reg.trig$residuals, lag = 20)$acf"
   ]
  },
  {
   "cell_type": "code",
   "execution_count": 9,
   "metadata": {},
   "outputs": [
    {
     "data": {
      "text/plain": [
       "Series: reg.dummies$residuals \n",
       "ARIMA(1,0,0)(1,0,0)[12] with zero mean \n",
       "\n",
       "Coefficients:\n",
       "            ar1        sar1\n",
       "      0.2124521  -0.4085407\n",
       "s.e.  0.1296734   0.1301577\n",
       "\n",
       "sigma^2 estimated as 5.829167e-06:  log likelihood=276.34\n",
       "AIC=-546.68   AICc=-546.25   BIC=-540.4"
      ]
     },
     "metadata": {},
     "output_type": "display_data"
    },
    {
     "data": {
      "text/plain": [
       "Series: reg.trig$residuals \n",
       "ARIMA(0,0,0)(0,0,1)[12] with zero mean \n",
       "\n",
       "Coefficients:\n",
       "            sma1\n",
       "      -0.4360628\n",
       "s.e.   0.1707225\n",
       "\n",
       "sigma^2 estimated as 6.600981e-06:  log likelihood=271.95\n",
       "AIC=-539.9   AICc=-539.69   BIC=-535.71"
      ]
     },
     "metadata": {},
     "output_type": "display_data"
    }
   ],
   "source": [
    "dummies_fit <- auto.arima(reg.dummies$residuals)\n",
    "dummies_fit # 1 nonseasonal AR term, 1 seasonal AR term\n",
    "\n",
    "trig_fit <- auto.arima(reg.trig$residuals)\n",
    "trig_fit # 0 nonseasonal terms, 1 seasonal MA term\n",
    "\n",
    "# The seasonal AR and MA terms deal with correlation structure and not the pattern itself (only took care of pattern so far)\n",
    "# AR and MA terms deal with correlation not seasonality structure, so you would look at seasonal terms as well"
   ]
  },
  {
   "cell_type": "markdown",
   "metadata": {},
   "source": [
    "After getting the AR and MA terms for the potential ARIMA models, go ahead and build them with the training data."
   ]
  },
  {
   "cell_type": "code",
   "execution_count": 10,
   "metadata": {},
   "outputs": [
    {
     "name": "stdout",
     "output_type": "stream",
     "text": [
      "Series: trainingTS \n",
      "Regression with ARIMA(1,0,0)(1,0,0)[12] errors \n",
      "\n",
      "Coefficients:\n",
      "            ar1        sar1  intercept  month.factor2  month.factor3\n",
      "      0.2234739  -0.4650153  0.0306585      0.0060452      0.0123397\n",
      "s.e.  0.1303497   0.1347052  0.0007905      0.0009901      0.0010851\n",
      "      month.factor4  month.factor5  month.factor6  month.factor7  month.factor8\n",
      "          0.0163781      0.0157716      0.0180396      0.0160142      0.0141296\n",
      "s.e.      0.0011082      0.0011120      0.0011134      0.0011151      0.0011146\n",
      "      month.factor9  month.factor10  month.factor11  month.factor12\n",
      "          0.0075536       0.0051679       0.0006944      -0.0044607\n",
      "s.e.      0.0011186       0.0011096       0.0010949       0.0010142\n",
      "\n",
      "sigma^2 estimated as 7.107816e-06:  log likelihood=276.98\n",
      "AIC=-523.95   AICc=-513.04   BIC=-492.54\n",
      "\n",
      "Training set error measures:\n",
      "                           ME           RMSE            MAE           MPE\n",
      "Training set -5.911574937e-05 0.002334378998 0.001975663237 -0.5963415532\n",
      "                    MAPE         MASE            ACF1\n",
      "Training set 5.380247924 0.5636154421 -0.004062387738\n",
      "Series: trainingTS \n",
      "Regression with ARIMA(0,0,0)(0,0,1)[12] errors \n",
      "\n",
      "Coefficients:\n",
      "            sma1  intercept      S1-12       C1-12       S2-12       C2-12\n",
      "      -0.5378942  0.0396712  0.0011471  -0.0098248  -0.0003056  -0.0017893\n",
      "s.e.   0.1918105  0.0002399  0.0003093   0.0003085   0.0003075   0.0003075\n",
      "           S3-12       C3-12      S4-12       C4-12\n",
      "      -0.0009783  -0.0005403  0.0001417  -0.0005750\n",
      "s.e.   0.0003074   0.0003077  0.0003085   0.0003073\n",
      "\n",
      "sigma^2 estimated as 7.421043e-06:  log likelihood=272.62\n",
      "AIC=-523.25   AICc=-517.75   BIC=-500.21\n",
      "\n",
      "Training set error measures:\n",
      "                           ME           RMSE            MAE           MPE\n",
      "Training set -0.0001624569399 0.002486805673 0.002038079587 -0.9817565661\n",
      "                    MAPE         MASE           ACF1\n",
      "Training set 5.483468517 0.5814215225 -0.04648312802\n"
     ]
    }
   ],
   "source": [
    "# Models with AR and MA terms\n",
    "arima.dummies <- Arima(trainingTS, order=c(1,0,0), seasonal = c(1,0,0), xreg = reg.ozone)\n",
    "summary(arima.dummies) # got lower MAE/MAPE values!\n",
    "\n",
    "arima.trig <- Arima(trainingTS, order=c(0,0,0), seasonal = c(0,0,1), xreg = fourier(trainingTS, K=4))\n",
    "summary(arima.trig)"
   ]
  },
  {
   "cell_type": "code",
   "execution_count": 11,
   "metadata": {},
   "outputs": [
    {
     "data": {
      "image/png": "[encoded data removed]",
      "text/plain": [
       "Plot with title \"Ljung-Box Test for Dummies Residuals\""
      ]
     },
     "metadata": {},
     "output_type": "display_data"
    }
   ],
   "source": [
    "# White Noise for Dummies Model\n",
    "# Perform Ljung-Box test up to 20 lags on residuals then store p-values in white.LB_resid\n",
    "# Number of lags observed has increased from HW 3 to capture more seasonality\n",
    "# fitdf = 2 because 1 nonseasonal and 1 seasonal terms were used\n",
    "\n",
    "White.LB_resid <- rep(NA, 20)\n",
    "\n",
    "for(i in 1:20){\n",
    "  White.LB_resid[i] <- Box.test(arima.dummies$residuals, lag = i, type = \"Lj\", fitdf = 2)$p.value\n",
    "}\n",
    "\n",
    "# p-values >= 0.2 are recorded as 0.2 (for plotting purposes)\n",
    "White.LB_resid <- pmin(White.LB_resid, 0.2)\n",
    "\n",
    "# Let's look at a plot of these p-values (lags 1,2,...,10)\n",
    "# The horizontal lines let us see which lags have p-values <0.05 and <0.01\n",
    "barplot(White.LB_resid, \n",
    "        main = \"Ljung-Box Test for Dummies Residuals\", \n",
    "        ylab = \"Probabilities\", \n",
    "        xlab = \"Lags\", \n",
    "        ylim = c(0, 0.2),\n",
    "        names.arg = seq(0,19))\n",
    "\n",
    "abline(h = 0.01, lty = \"dashed\", col = \"black\")\n",
    "abline(h = 0.05, lty = \"dashed\", col = \"black\")\n",
    "\n",
    "# We want all lags to be insignificant and fail to reject OVERALL --> almost all are insignificant\n",
    "# White noise potentially exists"
   ]
  },
  {
   "cell_type": "code",
   "execution_count": 12,
   "metadata": {
    "scrolled": true
   },
   "outputs": [
    {
     "data": {
      "image/png": "[encoded data removed]",
      "text/plain": [
       "Plot with title \"Ljung-Box Test for Trig Residuals\""
      ]
     },
     "metadata": {},
     "output_type": "display_data"
    }
   ],
   "source": [
    "# White Noise for Trig Model\n",
    "# fitdf = 1 because 1 seasonal term was used\n",
    "\n",
    "White.LB_resid <- rep(NA, 20)\n",
    "\n",
    "for(i in 1:20){\n",
    "  White.LB_resid[i] <- Box.test(arima.trig$residuals, lag = i, type = \"Lj\", fitdf = 1)$p.value\n",
    "}\n",
    "\n",
    "# p-values >= 0.2 are recorded as 0.2 (for plotting purposes)\n",
    "White.LB_resid <- pmin(White.LB_resid, 0.2)\n",
    "\n",
    "# Let's look at a plot of these p-values (lags 1,2,...,10)\n",
    "# The horizontal lines let us see which lags have p-values <0.05 and <0.01\n",
    "barplot(White.LB_resid, \n",
    "        main = \"Ljung-Box Test for Trig Residuals\", \n",
    "        ylab = \"Probabilities\", \n",
    "        xlab = \"Lags\", \n",
    "        ylim = c(0, 0.2),\n",
    "        names.arg = seq(0,19))\n",
    "\n",
    "abline(h = 0.01, lty = \"dashed\", col = \"black\")\n",
    "abline(h = 0.05, lty = \"dashed\", col = \"black\")\n",
    "\n",
    "# We want all lags to be insignificant and fail to reject OVERALL --> no autocorrelation of residuals!\n",
    "# White noise exists"
   ]
  },
  {
   "cell_type": "markdown",
   "metadata": {},
   "source": [
    "Now that we have potential models built from our training data. We need to forecast on validation data and compare MAE/MAPE values using the dummies and trig arima models. Then we can choose the final model with best MAPE/MAE to be scored with test data."
   ]
  },
  {
   "cell_type": "code",
   "execution_count": 13,
   "metadata": {},
   "outputs": [
    {
     "data": {
      "text/html": [
       "0.00222489272644583"
      ],
      "text/latex": [
       "0.00222489272644583"
      ],
      "text/markdown": [
       "0.00222489272644583"
      ],
      "text/plain": [
       "[1] 0.002224892726"
      ]
     },
     "metadata": {},
     "output_type": "display_data"
    },
    {
     "data": {
      "text/html": [
       "5.63915575041566"
      ],
      "text/latex": [
       "5.63915575041566"
      ],
      "text/markdown": [
       "5.63915575041566"
      ],
      "text/plain": [
       "[1] 5.63915575"
      ]
     },
     "metadata": {},
     "output_type": "display_data"
    }
   ],
   "source": [
    "# Forecast on validation data using Dummies\n",
    "dummies_pred <- forecast(arima.dummies, xreg = reg.ozone)\n",
    "dummies_pred_v <- dummies_pred$mean[1:12] # predictions for validation\n",
    "\n",
    "# Calculate validation data error\n",
    "dummies_pred_v_error <- validTS - dummies_pred_v\n",
    "# Validation MAE = 0.00222\n",
    "MAE_dummies_v <- mean(abs(dummies_pred_v_error))\n",
    "# Validation MAPE = 5.639\n",
    "MAPE_dummies_v <- mean(abs(dummies_pred_v_error)/abs(validTS))*100\n",
    "\n",
    "MAE_dummies_v\n",
    "MAPE_dummies_v"
   ]
  },
  {
   "cell_type": "code",
   "execution_count": 14,
   "metadata": {},
   "outputs": [
    {
     "data": {
      "text/html": [
       "0.00239043183826079"
      ],
      "text/latex": [
       "0.00239043183826079"
      ],
      "text/markdown": [
       "0.00239043183826079"
      ],
      "text/plain": [
       "[1] 0.002390431838"
      ]
     },
     "metadata": {},
     "output_type": "display_data"
    },
    {
     "data": {
      "text/html": [
       "5.97285813364062"
      ],
      "text/latex": [
       "5.97285813364062"
      ],
      "text/markdown": [
       "5.97285813364062"
      ],
      "text/plain": [
       "[1] 5.972858134"
      ]
     },
     "metadata": {},
     "output_type": "display_data"
    }
   ],
   "source": [
    "# Forecast on validation data using Trig\n",
    "trig_pred <- forecast(arima.trig, xreg = fourier(trainingTS, K=4))\n",
    "trig_pred_v <- trig_pred$mean[1:12] # predictions for validation\n",
    "\n",
    "# Calculate validation data error\n",
    "trig_pred_v_error <- validTS - trig_pred_v\n",
    "# Dummies validation MAE = 0.00239\n",
    "MAE_trig_v <- mean(abs(trig_pred_v_error))\n",
    "# Trig validation MAPE = 5.973\n",
    "MAPE_trig_v <- mean(abs(trig_pred_v_error)/abs(validTS))*100\n",
    "\n",
    "MAE_trig_v\n",
    "MAPE_trig_v"
   ]
  },
  {
   "cell_type": "markdown",
   "metadata": {},
   "source": [
    "The trig model has better MAE/MAPE values, so we will choose the trig model as our final model to be scored with test data."
   ]
  },
  {
   "cell_type": "code",
   "execution_count": 15,
   "metadata": {},
   "outputs": [
    {
     "data": {
      "text/html": [
       "0.00377361217431218"
      ],
      "text/latex": [
       "0.00377361217431218"
      ],
      "text/markdown": [
       "0.00377361217431218"
      ],
      "text/plain": [
       "[1] 0.003773612174"
      ]
     },
     "metadata": {},
     "output_type": "display_data"
    },
    {
     "data": {
      "text/html": [
       "9.90904176017002"
      ],
      "text/latex": [
       "9.90904176017002"
      ],
      "text/markdown": [
       "9.90904176017002"
      ],
      "text/plain": [
       "[1] 9.90904176"
      ]
     },
     "metadata": {},
     "output_type": "display_data"
    }
   ],
   "source": [
    "# Forecast predictions using Trig model on testing (5 months) \n",
    "trig_pred_test <- trig_pred$mean[13:17] # predictions for testing data\n",
    "# Calculate test data error\n",
    "trig_pred_test_error <- testTS - trig_pred_test\n",
    "# Trig test MAE = 0.00374\n",
    "MAE_trig_test <- mean(abs(trig_pred_test_error))\n",
    "# Trig test MAPE = 9.78923\n",
    "MAPE_trig_test <- mean(abs(trig_pred_test_error)/abs(testTS))*100\n",
    "\n",
    "MAE_trig_test\n",
    "MAPE_trig_test"
   ]
  },
  {
   "cell_type": "markdown",
   "metadata": {},
   "source": [
    "### Plot actual vs predicted for validation data"
   ]
  },
  {
   "cell_type": "code",
   "execution_count": 16,
   "metadata": {},
   "outputs": [
    {
     "data": {
      "image/png": "[encoded data removed]",
      "text/plain": [
       "plot without title"
      ]
     },
     "metadata": {},
     "output_type": "display_data"
    }
   ],
   "source": [
    "#### Validation Data ####\n",
    "results_df <- data.frame(trig_pred_v = trig_pred_v,\n",
    "                         dummies_pred_v = dummies_pred_v,\n",
    "                         actual = validTS,\n",
    "                         date = seq(as.Date('2019-01-01'), as.Date('2019-12-01'), by=\"months\"))\n",
    "\n",
    "options(repr.plot.width=9, repr.plot.height=3)\n",
    "\n",
    "results_df %>% \n",
    "  select(date, actual, trig_pred_v, dummies_pred_v) %>% \n",
    "  gather(key = 'Model', value = value, -date) %>% \n",
    "  mutate(Model = case_when(Model == 'actual' ~ 'Actual Value',\n",
    "                           Model == 'dummies_pred_v' ~ 'Dummy Variable Model Prediction',\n",
    "                           Model == 'trig_pred_v' ~ 'Fourier Model Prediction')) %>% \n",
    "  ggplot(aes(x = date, y = value, color = Model)) +\n",
    "  geom_line(size = 1, aes(linetype = Model)) +\n",
    "  scale_color_brewer(palette = 'Dark2') +\n",
    "  scale_linetype_manual(values = c('solid', 'dotted', 'dashed'))+\n",
    "  theme_tufte()+ \n",
    "  labs(x = 'Date', \n",
    "       y = 'Monthly Average Ozone Concentration',\n",
    "       title = 'Ozone Concentration Model Comparison',\n",
    "       subtitle = 'Validation Data')"
   ]
  },
  {
   "cell_type": "markdown",
   "metadata": {},
   "source": [
    "### Plot actual vs predicted for test data"
   ]
  },
  {
   "cell_type": "code",
   "execution_count": 17,
   "metadata": {},
   "outputs": [
    {
     "data": {
      "image/png": "[encoded data removed]",
      "text/plain": [
       "plot without title"
      ]
     },
     "metadata": {},
     "output_type": "display_data"
    }
   ],
   "source": [
    "####Color test data ####\n",
    "\n",
    "# Create df with predicted values, actual values (test data), and date for the 5 month forecast\n",
    "results_df <- data.frame(trig_pred = trig_pred_test,\n",
    "                         dummies_pred = dummies_pred$mean[13:17],\n",
    "                         actual = testTS,\n",
    "                         date = seq(as.Date('2020-01-01'), as.Date('2020-05-01'), by=\"months\"))\n",
    "results_df %>% \n",
    "  select(date, actual, trig_pred) %>% \n",
    "  gather(key = 'Model', value = value, -date) %>% \n",
    "  mutate(Model = case_when(Model == 'actual' ~ 'Actual Value',\n",
    "                           Model == 'dummies_pred' ~ 'Dummy Variable Model Prediction',\n",
    "                           Model == 'trig_pred' ~ 'Fourier Model Prediction')) %>% \n",
    "  ggplot(aes(x = date, y = value, color = Model)) +\n",
    "  geom_line(size = 1, aes(linetype = Model)) +\n",
    "  scale_color_brewer(palette = 'Dark2') +\n",
    "  scale_linetype_manual(values = c('solid', 'dashed'))+\n",
    "  theme_tufte()+ \n",
    "  labs(x = 'Date', \n",
    "       y = 'Monthly Average Ozone Concentration',\n",
    "       title = 'Ozone Concentration Model Comparison',\n",
    "       subtitle = 'Test Data')"
   ]
  }
 ],
 "metadata": {
  "kernelspec": {
   "display_name": "R",
   "language": "R",
   "name": "ir"
  },
  "language_info": {
   "codemirror_mode": "r",
   "file_extension": ".r",
   "mimetype": "text/x-r-source",
   "name": "R",
   "pygments_lexer": "r",
   "version": "3.6.1"
  }
 },
 "nbformat": 4,
 "nbformat_minor": 4
}
